{
 "cells": [
  {
   "cell_type": "code",
   "execution_count": 1,
   "metadata": {},
   "outputs": [
    {
     "data": {
      "text/plain": [
       "(1797, 8, 8)"
      ]
     },
     "execution_count": 1,
     "metadata": {},
     "output_type": "execute_result"
    }
   ],
   "source": [
    "import matplotlib.pyplot as plt \n",
    "\n",
    "from sklearn import datasets\n",
    "from sklearn import svm\n",
    "\n",
    "digits = datasets.load_digits()\n",
    "\n",
    "\n",
    "imgs = digits['images']\n",
    "imgs.shape"
   ]
  },
  {
   "cell_type": "code",
   "execution_count": 7,
   "metadata": {},
   "outputs": [],
   "source": [
    "clf = svm.SVC(gamma=0.001, C=100)\n",
    "\n",
    "x,y = digits.data[:-1], digits.target[:-1]"
   ]
  },
  {
   "cell_type": "code",
   "execution_count": 5,
   "metadata": {},
   "outputs": [
    {
     "ename": "KeyboardInterrupt",
     "evalue": "",
     "output_type": "error",
     "traceback": [
      "\u001b[0;31m---------------------------------------------------------------------------\u001b[0m",
      "\u001b[0;31mKeyboardInterrupt\u001b[0m                         Traceback (most recent call last)",
      "\u001b[0;32m<ipython-input-5-b6fa54540b02>\u001b[0m in \u001b[0;36m<module>\u001b[0;34m()\u001b[0m\n\u001b[1;32m     13\u001b[0m             \u001b[0mimg\u001b[0m \u001b[0;34m=\u001b[0m \u001b[0mimg\u001b[0m\u001b[0;34m.\u001b[0m\u001b[0mconvert\u001b[0m\u001b[0;34m(\u001b[0m\u001b[0;34m'L'\u001b[0m\u001b[0;34m)\u001b[0m\u001b[0;34m\u001b[0m\u001b[0m\n\u001b[1;32m     14\u001b[0m \u001b[0;34m\u001b[0m\u001b[0m\n\u001b[0;32m---> 15\u001b[0;31m             \u001b[0mimg\u001b[0m\u001b[0;34m.\u001b[0m\u001b[0msave\u001b[0m\u001b[0;34m(\u001b[0m\u001b[0mimage_path\u001b[0m\u001b[0;34m)\u001b[0m\u001b[0;34m\u001b[0m\u001b[0m\n\u001b[0m",
      "\u001b[0;32m~/anaconda3/lib/python3.6/site-packages/PIL/Image.py\u001b[0m in \u001b[0;36msave\u001b[0;34m(self, fp, format, **params)\u001b[0m\n\u001b[1;32m   1948\u001b[0m \u001b[0;34m\u001b[0m\u001b[0m\n\u001b[1;32m   1949\u001b[0m         \u001b[0;32mtry\u001b[0m\u001b[0;34m:\u001b[0m\u001b[0;34m\u001b[0m\u001b[0m\n\u001b[0;32m-> 1950\u001b[0;31m             \u001b[0msave_handler\u001b[0m\u001b[0;34m(\u001b[0m\u001b[0mself\u001b[0m\u001b[0;34m,\u001b[0m \u001b[0mfp\u001b[0m\u001b[0;34m,\u001b[0m \u001b[0mfilename\u001b[0m\u001b[0;34m)\u001b[0m\u001b[0;34m\u001b[0m\u001b[0m\n\u001b[0m\u001b[1;32m   1951\u001b[0m         \u001b[0;32mfinally\u001b[0m\u001b[0;34m:\u001b[0m\u001b[0;34m\u001b[0m\u001b[0m\n\u001b[1;32m   1952\u001b[0m             \u001b[0;31m# do what we can to clean up\u001b[0m\u001b[0;34m\u001b[0m\u001b[0;34m\u001b[0m\u001b[0m\n",
      "\u001b[0;32m~/anaconda3/lib/python3.6/site-packages/PIL/JpegImagePlugin.py\u001b[0m in \u001b[0;36m_save\u001b[0;34m(im, fp, filename)\u001b[0m\n\u001b[1;32m    760\u001b[0m                   len(extra) + 1)\n\u001b[1;32m    761\u001b[0m \u001b[0;34m\u001b[0m\u001b[0m\n\u001b[0;32m--> 762\u001b[0;31m     \u001b[0mImageFile\u001b[0m\u001b[0;34m.\u001b[0m\u001b[0m_save\u001b[0m\u001b[0;34m(\u001b[0m\u001b[0mim\u001b[0m\u001b[0;34m,\u001b[0m \u001b[0mfp\u001b[0m\u001b[0;34m,\u001b[0m \u001b[0;34m[\u001b[0m\u001b[0;34m(\u001b[0m\u001b[0;34m\"jpeg\"\u001b[0m\u001b[0;34m,\u001b[0m \u001b[0;34m(\u001b[0m\u001b[0;36m0\u001b[0m\u001b[0;34m,\u001b[0m \u001b[0;36m0\u001b[0m\u001b[0;34m)\u001b[0m\u001b[0;34m+\u001b[0m\u001b[0mim\u001b[0m\u001b[0;34m.\u001b[0m\u001b[0msize\u001b[0m\u001b[0;34m,\u001b[0m \u001b[0;36m0\u001b[0m\u001b[0;34m,\u001b[0m \u001b[0mrawmode\u001b[0m\u001b[0;34m)\u001b[0m\u001b[0;34m]\u001b[0m\u001b[0;34m,\u001b[0m \u001b[0mbufsize\u001b[0m\u001b[0;34m)\u001b[0m\u001b[0;34m\u001b[0m\u001b[0m\n\u001b[0m\u001b[1;32m    763\u001b[0m \u001b[0;34m\u001b[0m\u001b[0m\n\u001b[1;32m    764\u001b[0m \u001b[0;34m\u001b[0m\u001b[0m\n",
      "\u001b[0;32m~/anaconda3/lib/python3.6/site-packages/PIL/ImageFile.py\u001b[0m in \u001b[0;36m_save\u001b[0;34m(im, fp, tile, bufsize)\u001b[0m\n\u001b[1;32m    511\u001b[0m                 \u001b[0ml\u001b[0m\u001b[0;34m,\u001b[0m \u001b[0ms\u001b[0m \u001b[0;34m=\u001b[0m \u001b[0me\u001b[0m\u001b[0;34m.\u001b[0m\u001b[0mencode_to_pyfd\u001b[0m\u001b[0;34m(\u001b[0m\u001b[0;34m)\u001b[0m\u001b[0;34m\u001b[0m\u001b[0m\n\u001b[1;32m    512\u001b[0m             \u001b[0;32melse\u001b[0m\u001b[0;34m:\u001b[0m\u001b[0;34m\u001b[0m\u001b[0m\n\u001b[0;32m--> 513\u001b[0;31m                 \u001b[0ms\u001b[0m \u001b[0;34m=\u001b[0m \u001b[0me\u001b[0m\u001b[0;34m.\u001b[0m\u001b[0mencode_to_file\u001b[0m\u001b[0;34m(\u001b[0m\u001b[0mfh\u001b[0m\u001b[0;34m,\u001b[0m \u001b[0mbufsize\u001b[0m\u001b[0;34m)\u001b[0m\u001b[0;34m\u001b[0m\u001b[0m\n\u001b[0m\u001b[1;32m    514\u001b[0m             \u001b[0;32mif\u001b[0m \u001b[0ms\u001b[0m \u001b[0;34m<\u001b[0m \u001b[0;36m0\u001b[0m\u001b[0;34m:\u001b[0m\u001b[0;34m\u001b[0m\u001b[0m\n\u001b[1;32m    515\u001b[0m                 \u001b[0;32mraise\u001b[0m \u001b[0mIOError\u001b[0m\u001b[0;34m(\u001b[0m\u001b[0;34m\"encoder error %d when writing image file\"\u001b[0m \u001b[0;34m%\u001b[0m \u001b[0ms\u001b[0m\u001b[0;34m)\u001b[0m\u001b[0;34m\u001b[0m\u001b[0m\n",
      "\u001b[0;31mKeyboardInterrupt\u001b[0m: "
     ]
    }
   ],
   "source": [
    "# Converts the images to Grey Scale\n",
    "\n",
    "import os\n",
    "from PIL import Image\n",
    "\n",
    "directory = '/Users/marcus/Desktop/Training_Data_SVM_Control/'\n",
    "output = '/Users/marcus/Desktop/Training_Data_SVM_Control_BW/'\n",
    "\n",
    "for dir_name, sub_dir_list, file_list in os.walk(directory):\n",
    "    for file_name in file_list:\n",
    "        if file_name[-4:] == \".jpg\" and len(file_name) > 5:\n",
    "            image_path = os.path.join(dir_name, file_name)\n",
    "            img = Image.open(image_path)\n",
    "            img = img.convert('L')\n",
    "            output_path = \n",
    "            img.save(image_path)"
   ]
  },
  {
   "cell_type": "code",
   "execution_count": 8,
   "metadata": {},
   "outputs": [],
   "source": [
    "from sklearn.datasets import make_blobs\n",
    "from sklearn.cluster import KMeans\n",
    "\n",
    "n_samples = 1000\n",
    "n_features = 5;\n",
    "n_clusters = 3;\n",
    "\n",
    "# aint this sweet \n",
    "X, y = make_blobs(n_samples, n_features) \n",
    "# X => array of shape [nsamples,nfeatures] ;;; y => array of shape[nsamples]\n",
    "\n",
    "# X : generated samples, y : integer labels for cluster membership of each sample\n",
    "# performing KMeans clustering\n",
    "\n",
    "#ret =  KMeans(n_clusters = n_clusters).fit_predict(X)\n",
    "\n"
   ]
  },
  {
   "cell_type": "code",
   "execution_count": 16,
   "metadata": {},
   "outputs": [
    {
     "name": "stdout",
     "output_type": "stream",
     "text": [
      "[0 2 0 0 0 0 1 0 2 2 0 0 2 0 0 0 2 1 0 0 1 2 1 1 1 0 0 0 0 0 2 1 1 2 0 0 1\n",
      " 0 2 2 1 2 1 1 0 2 1 0 2 0 1 1 0 2 2 2 2 2 0 0 0 0 0 1 1 1 2 2 1 2 0 0 2 1\n",
      " 0 1 2 1 1 1 2 0 0 0 1 0 0 1 1 1 2 0 0 0 1 1 1 1 0 0 2 2 1 1 2 2 1 2 1 1 2\n",
      " 2 1 2 0 1 0 0 1 0 1 0 2 0 1 2 1 2 1 1 0 1 1 0 2 1 1 0 0 1 1 2 1 0 1 1 0 2\n",
      " 2 2 2 0 1 1 1 2 2 2 2 0 1 0 0 2 1 1 0 2 1 0 1 1 0 0 2 1 0 2 2 0 1 1 1 2 2\n",
      " 1 0 0 1 0 2 1 1 2 0 1 1 0 1 0 1 0 0 1 1 2 1 2 1 0 1 1 1 0 1 1 0 2 2 1 2 1\n",
      " 0 2 0 0 1 0 0 2 2 2 0 1 1 2 2 2 0 0 2 0 1 0 1 1 1 2 2 2 0 1 0 1 1 2 0 2 2\n",
      " 0 0 2 2 2 2 2 2 2 2 2 0 2 2 2 2 0 2 2 2 0 0 2 0 0 0 0 0 1 1 2 1 0 1 0 0 2\n",
      " 1 0 0 2 2 2 1 1 2 2 1 0 2 1 2 0 2 1 0 2 0 1 0 1 0 2 1 2 2 1 2 2 1 2 1 0 2\n",
      " 1 2 0 0 2 2 1 0 0 1 2 0 2 1 1 2 1 0 2 2 1 2 1 2 0 0 2 2 0 1 2 0 2 2 1 1 1\n",
      " 2 1 0 2 1 1 0 2 1 0 2 1 2 2 1 2 2 0 2 2 0 0 2 2 0 2 2 1 2 2 2 1 0 2 1 2 2\n",
      " 1 1 1 1 2 2 2 0 0 0 0 0 2 0 0 0 1 0 2 0 2 2 2 2 0 1 2 2 1 1 2 1 1 0 1 0 1\n",
      " 0 0 2 0 0 2 0 1 2 1 1 1 1 0 0 1 1 2 0 1 0 0 1 2 0 0 2 0 1 1 2 2 2 1 1 2 0\n",
      " 0 0 2 2 2 1 0 0 1 0 1 2 2 0 2 0 1 0 0 0 0 2 0 2 1 1 0 0 0 2 1 2 2 2 2 0 0\n",
      " 0 1 2 2 0 0 1 0 0 0 1 0 0 2 1 1 2 2 0 2 0 1 0 1 0 2 0 2 0 0 2 1 1 0 0 1 0\n",
      " 0 0 0 2 1 2 1 0 1 1 1 2 0 0 0 2 1 0 2 0 2 1 0 0 2 1 0 1 0 2 2 2 0 0 0 0 1\n",
      " 1 0 1 1 0 1 0 2 0 1 1 0 2 0 1 0 1 2 0 1 0 1 1 2 0 2 2 2 1 1 0 0 1 2 1 1 1\n",
      " 1 2 0 1 0 0 2 0 1 2 0 0 2 1 0 0 2 2 2 0 2 1 0 0 1 2 0 2 1 1 1 0 1 1 0 0 1\n",
      " 1 2 1 1 2 2 2 2 1 0 1 2 1 2 2 2 2 1 2 0 2 0 1 0 0 0 2 0 0 1 0 2 0 2 0 2 1\n",
      " 0 2 1 1 2 2 2 0 1 2 0 0 2 2 2 2 1 1 2 1 1 1 2 1 0 1 2 1 1 1 0 1 2 2 1 1 1\n",
      " 2 2 0 1 2 2 0 0 0 2 1 0 1 2 0 1 1 0 0 0 2 1 1 2 1 0 1 1 0 0 2 2 2 1 1 1 1\n",
      " 1 2 0 0 2 1 0 2 1 0 0 2 2 1 0 0 0 2 0 0 1 1 2 2 0 2 2 0 0 1 1 2 1 0 2 1 1\n",
      " 1 2 1 2 2 0 2 1 2 0 1 1 1 0 0 2 2 2 1 0 2 0 2 2 1 0 0 1 2 1 2 2 2 1 2 0 1\n",
      " 0 2 2 2 0 0 2 1 2 2 1 0 1 1 2 1 0 2 2 2 1 1 1 2 0 0 1 2 0 2 2 1 0 0 1 2 1\n",
      " 1 2 1 0 1 1 2 1 2 1 1 0 2 2 2 0 1 0 1 2 2 0 0 2 2 1 1 0 0 0 0 2 1 0 2 1 0\n",
      " 0 2 1 0 0 2 0 1 0 0 1 1 2 1 1 2 1 2 2 2 2 1 1 2 1 1 0 1 0 2 1 1 1 0 2 0 0\n",
      " 1 0 1 2 1 1 1 0 2 2 2 1 0 2 0 1 2 0 1 0 0 1 1 0 1 2 0 0 1 2 0 0 1 2 1 2 0\n",
      " 1]\n"
     ]
    }
   ],
   "source": [
    "print(ret)"
   ]
  },
  {
   "cell_type": "code",
   "execution_count": 30,
   "metadata": {},
   "outputs": [
    {
     "name": "stdout",
     "output_type": "stream",
     "text": [
      "[ 8.52277088e+00 -9.49144315e+00 -3.55488104e+00 -2.97823004e-03\n",
      "  6.48678764e-01]\n"
     ]
    }
   ],
   "source": [
    "print(X[7])"
   ]
  },
  {
   "cell_type": "code",
   "execution_count": 37,
   "metadata": {},
   "outputs": [
    {
     "name": "stdout",
     "output_type": "stream",
     "text": [
      "[1 1 2 0 1 1 2 1 1 1 1 0 1 1 2 1 2 0 0 2 0 1 0 2 0 1 0 2 2 0 2 0 1 0 1 0 2\n",
      " 0 2 0 1 0 1 0 0 2 0 0 2 0 1 1 0 2 2 0 1 2 0 1 2 0 0 1 2 0 2 1 2 2 0 2 0 2\n",
      " 0 0 1 2 2 2 2 1 0 1 1 1 2 0 0 0 0 1 1 2 0 1 1 0 2 2 1 2 1 2 1 2 2 0 1 2 1\n",
      " 1 1 1 0 0 1 1 1 2 0 2 2 1 2 0 2 2 1 2 1 0 1 1 1 2 1 1 2 2 1 2 1 0 0 1 2 1\n",
      " 0 0 0 2 2 2 1 2 0 2 0 2 2 2 2 2 1 1 0 0 2 2 1 0 0 1 2 0 1 2 1 0 0 2 0 2 2\n",
      " 0 1 0 2 2 1 1 1 0 2 1 2 0 2 1 1 2 1 1 1 1 0 0 0 1 2 1 1 0 2 2 0 0 1 0 1 0\n",
      " 0 2 1 0 0 1 2 2 2 0 1 2 1 2 2 0 0 0 2 0 0 2 1 2 2 2 2 2 0 2 1 2 1 1 0 2 0\n",
      " 1 0 0 0 1 0 0 2 0 2 2 2 2 2 1 0 0 0 2 2 2 1 0 1 0 0 0 2 1 2 0 0 1 0 2 0 0\n",
      " 1 1 1 1 0 1 1 2 2 2 1 1 2 0 2 0 1 1 1 2 2 1 0 1 2 2 0 1 1 2 0 1 1 0 2 0 0\n",
      " 2 1 1 2 2 1 2 1 2 0 1 0 0 2 1 0 2 0 0 0 0 0 1 2 0 2 1 1 1 0 0 0 1 2 2 1 2\n",
      " 0 1 2 1 1 0 2 0 1 2 1 2 0 0 1 2 2 1 1 2 2 0 2 2 1 1 1 2 1 0 0 2 0 2 1 0 0\n",
      " 0 0 2 0 2 1 2 2 1 2 1 1 2 1 2 0 1 2 0 0 2 0 0 2 1 2 2 0 2 1 1 1 2 0 1 1 1\n",
      " 1 2 1 0 1 0 1 2 0 0 0 0 1 0 0 1 0 2 1 1 0 1 2 2 2 0 2 0 2 2 0 1 0 1 2 1 2\n",
      " 1 2 1 1 1 2 1 2 1 2 1 0 2 2 1 2 2 2 0 0 2 2 1 0 1 2 2 2 1 0 1 0 2 2 1 1 0\n",
      " 2 1 0 2 2 0 0 0 1 0 2 1 1 2 0 2 1 1 1 2 2 1 0 1 0 0 0 0 2 0 2 1 0 1 0 1 2\n",
      " 0 0 1 1 0 1 0 0 2 0 2 2 0 2 0 2 2 1 1 2 0 1 1 1 2 0 0 1 1 1 0 2 2 1 1 1 1\n",
      " 0 0 0 2 2 0 2 0 0 2 0 0 0 0 2 2 1 0 1 1 2 1 2 2 2 1 1 0 1 0 2 2 2 2 2 0 0\n",
      " 1 2 1 1 1 2 2 2 0 2 0 1 2 1 0 1 0 1 0 0 1 1 1 0 0 2 1 0 2 1 2 1 1 2 2 0 2\n",
      " 2 2 0 1 0 1 1 1 0 0 1 1 0 0 2 2 2 1 1 0 1 0 2 2 0 1 1 1 2 1 2 1 2 0 2 2 0\n",
      " 2 1 1 1 1 2 0 1 2 0 1 1 1 2 2 2 0 2 1 2 0 1 0 2 2 2 2 0 1 2 0 0 0 1 1 0 0\n",
      " 2 0 2 0 2 0 0 0 0 0 2 2 1 2 2 2 1 2 0 0 2 1 2 0 0 0 2 0 2 0 0 0 2 0 0 2 0\n",
      " 1 2 2 0 2 0 2 1 1 0 2 1 2 2 0 2 0 1 1 0 1 1 0 2 2 1 1 0 2 2 0 0 2 0 1 2 0\n",
      " 0 1 1 2 2 1 2 2 1 2 0 0 2 0 2 2 0 2 1 0 1 1 0 1 2 2 0 0 1 1 0 0 0 1 0 0 1\n",
      " 1 1 1 2 1 2 1 0 2 2 0 1 1 1 0 1 1 0 0 0 1 0 2 2 1 2 2 2 0 0 1 2 1 1 0 0 0\n",
      " 2 1 2 0 2 1 2 1 2 1 0 1 2 0 1 0 1 1 2 1 2 1 2 0 0 0 2 1 0 2 0 1 0 0 0 0 0\n",
      " 0 1 0 1 1 2 0 0 2 1 1 1 0 2 2 1 0 1 1 2 1 2 1 0 1 1 2 0 0 0 2 2 1 0 2 1 1\n",
      " 0 1 2 0 1 1 0 1 0 2 2 2 1 2 2 2 2 2 1 1 0 1 2 2 0 0 1 2 1 1 0 1 1 0 0 0 0\n",
      " 1]\n"
     ]
    },
    {
     "data": {
      "image/png": "[encoded data removed]",
      "text/plain": [
       "<Figure size 432x288 with 2 Axes>"
      ]
     },
     "metadata": {},
     "output_type": "display_data"
    }
   ],
   "source": [
    "\"\"\"\n",
    "Using SKLearns API for performing Kmeans clustering.\n",
    "Using sklearn.datasets.make_blobs for generating randomized gaussians\n",
    "for clustering.\n",
    "\"\"\"\n",
    "\n",
    "import numpy as np \n",
    "from matplotlib import pyplot as plt \n",
    "from sklearn.cluster import KMeans\n",
    "from sklearn.datasets import make_blobs \n",
    "\n",
    "# create a dataset sample space that will be used\n",
    "# to test KMeans. Use function : make_blobs\n",
    "# \n",
    "\n",
    "n_samples = 1000\n",
    "n_features = 5;\n",
    "n_clusters = 3;\n",
    "\n",
    "# aint this sweet \n",
    "X, y = make_blobs(n_samples, n_features) \n",
    "# X => array of shape [nsamples,nfeatures] ;;; y => array of shape[nsamples]\n",
    "\n",
    "# X : generated samples, y : integer labels for cluster membership of each sample\n",
    "# \n",
    "# \n",
    "\n",
    "# performing KMeans clustering\n",
    "\n",
    "ret =  KMeans(n_clusters = n_clusters).fit_predict(X)\n",
    "print(ret)\n",
    "\n",
    "__, ax = plt.subplots(2)\n",
    "ax[0].scatter(X[:,0], X[:,1])\n",
    "ax[0].set_title(\"Initial Scatter Distribution\")\n",
    "ax[1].scatter(X[:,0], X[:,1], c=ret)\n",
    "ax[1].set_title(\"Colored Partition denoting Clusters\")\n",
    "# plt.scatter\n",
    "plt.show()\n"
   ]
  },
  {
   "cell_type": "code",
   "execution_count": 24,
   "metadata": {},
   "outputs": [
    {
     "data": {
      "text/plain": [
       "[<matplotlib.lines.Line2D at 0x1a21847ef0>,\n",
       " <matplotlib.lines.Line2D at 0x1a203a40b8>,\n",
       " <matplotlib.lines.Line2D at 0x1a203a4208>,\n",
       " <matplotlib.lines.Line2D at 0x1a203a4358>,\n",
       " <matplotlib.lines.Line2D at 0x1a203a44a8>]"
      ]
     },
     "execution_count": 24,
     "metadata": {},
     "output_type": "execute_result"
    },
    {
     "data": {
      "image/png": "[encoded data removed]",
      "text/plain": [
       "<Figure size 432x288 with 1 Axes>"
      ]
     },
     "metadata": {},
     "output_type": "display_data"
    }
   ],
   "source": [
    "plt.plot(X, y, 'o', color = 'black')"
   ]
  },
  {
   "cell_type": "code",
   "execution_count": 11,
   "metadata": {},
   "outputs": [
    {
     "name": "stdout",
     "output_type": "stream",
     "text": [
      "[ 3.91974158  7.34645813 -3.40352671  8.30571286 -3.57886442]\n"
     ]
    }
   ],
   "source": [
    "print(X[0])\n"
   ]
  },
  {
   "cell_type": "code",
   "execution_count": null,
   "metadata": {},
   "outputs": [],
   "source": []
  },
  {
   "cell_type": "code",
   "execution_count": 9,
   "metadata": {},
   "outputs": [
    {
     "ename": "TypeError",
     "evalue": "hog() got an unexpected keyword argument 'multichannel'",
     "output_type": "error",
     "traceback": [
      "\u001b[0;31m---------------------------------------------------------------------------\u001b[0m",
      "\u001b[0;31mTypeError\u001b[0m                                 Traceback (most recent call last)",
      "\u001b[0;32m<ipython-input-9-4c02b4f5f49e>\u001b[0m in \u001b[0;36m<module>\u001b[0;34m()\u001b[0m\n\u001b[1;32m      9\u001b[0m \u001b[0mimage\u001b[0m \u001b[0;34m=\u001b[0m \u001b[0mdata\u001b[0m\u001b[0;34m.\u001b[0m\u001b[0mastronaut\u001b[0m\u001b[0;34m(\u001b[0m\u001b[0;34m)\u001b[0m\u001b[0;34m\u001b[0m\u001b[0m\n\u001b[1;32m     10\u001b[0m \u001b[0;34m\u001b[0m\u001b[0m\n\u001b[0;32m---> 11\u001b[0;31m \u001b[0mfd\u001b[0m\u001b[0;34m,\u001b[0m \u001b[0mhog_image\u001b[0m \u001b[0;34m=\u001b[0m \u001b[0mhog\u001b[0m\u001b[0;34m(\u001b[0m\u001b[0mimage\u001b[0m\u001b[0;34m,\u001b[0m \u001b[0morientations\u001b[0m\u001b[0;34m=\u001b[0m\u001b[0;36m8\u001b[0m\u001b[0;34m,\u001b[0m \u001b[0mpixels_per_cell\u001b[0m\u001b[0;34m=\u001b[0m\u001b[0;34m(\u001b[0m\u001b[0;36m16\u001b[0m\u001b[0;34m,\u001b[0m \u001b[0;36m16\u001b[0m\u001b[0;34m)\u001b[0m\u001b[0;34m,\u001b[0m \u001b[0mcells_per_block\u001b[0m\u001b[0;34m=\u001b[0m\u001b[0;34m(\u001b[0m\u001b[0;36m1\u001b[0m\u001b[0;34m,\u001b[0m \u001b[0;36m1\u001b[0m\u001b[0;34m)\u001b[0m\u001b[0;34m,\u001b[0m \u001b[0mvisualise\u001b[0m\u001b[0;34m=\u001b[0m\u001b[0;32mTrue\u001b[0m\u001b[0;34m,\u001b[0m \u001b[0mmultichannel\u001b[0m \u001b[0;34m=\u001b[0m \u001b[0;36m3\u001b[0m\u001b[0;34m)\u001b[0m\u001b[0;34m\u001b[0m\u001b[0m\n\u001b[0m\u001b[1;32m     12\u001b[0m \u001b[0;34m\u001b[0m\u001b[0m\n\u001b[1;32m     13\u001b[0m \u001b[0mfig\u001b[0m\u001b[0;34m,\u001b[0m \u001b[0;34m(\u001b[0m\u001b[0max1\u001b[0m\u001b[0;34m,\u001b[0m \u001b[0max2\u001b[0m\u001b[0;34m)\u001b[0m \u001b[0;34m=\u001b[0m \u001b[0mplt\u001b[0m\u001b[0;34m.\u001b[0m\u001b[0msubplots\u001b[0m\u001b[0;34m(\u001b[0m\u001b[0;36m1\u001b[0m\u001b[0;34m,\u001b[0m \u001b[0;36m2\u001b[0m\u001b[0;34m,\u001b[0m \u001b[0mfigsize\u001b[0m\u001b[0;34m=\u001b[0m\u001b[0;34m(\u001b[0m\u001b[0;36m8\u001b[0m\u001b[0;34m,\u001b[0m \u001b[0;36m4\u001b[0m\u001b[0;34m)\u001b[0m\u001b[0;34m,\u001b[0m \u001b[0msharex\u001b[0m\u001b[0;34m=\u001b[0m\u001b[0;32mTrue\u001b[0m\u001b[0;34m,\u001b[0m \u001b[0msharey\u001b[0m\u001b[0;34m=\u001b[0m\u001b[0;32mTrue\u001b[0m\u001b[0;34m)\u001b[0m\u001b[0;34m\u001b[0m\u001b[0m\n",
      "\u001b[0;31mTypeError\u001b[0m: hog() got an unexpected keyword argument 'multichannel'"
     ]
    }
   ],
   "source": [
    "# HOG DESCRIPTOR EXTRACTION\n",
    "\n",
    "import matplotlib.pyplot as plt\n",
    "\n",
    "from skimage.feature import hog\n",
    "from skimage import data, exposure\n",
    "\n",
    "\n",
    "image = data.astronaut()\n",
    "\n",
    "fd, hog_image = hog(image, orientations=8, pixels_per_cell=(16, 16), cells_per_block=(1, 1), visualise=True, multichannel = 3)\n",
    "\n",
    "fig, (ax1, ax2) = plt.subplots(1, 2, figsize=(8, 4), sharex=True, sharey=True)\n",
    "\n",
    "ax1.axis('off')\n",
    "ax1.imshow(image, cmap=plt.cm.gray)\n",
    "ax1.set_title('Input image')\n",
    "\n",
    "# Rescale histogram for better display\n",
    "hog_image_rescaled = exposure.rescale_intensity(hog_image, in_range=(0, 10))\n",
    "\n",
    "ax2.axis('off')\n",
    "ax2.imshow(hog_image_rescaled, cmap=plt.cm.gray)\n",
    "ax2.set_title('Histogram of Oriented Gradients')\n",
    "plt.show()"
   ]
  },
  {
   "cell_type": "code",
   "execution_count": null,
   "metadata": {},
   "outputs": [],
   "source": []
  }
 ],
 "metadata": {
  "kernelspec": {
   "display_name": "Python 3",
   "language": "python",
   "name": "python3"
  },
  "language_info": {
   "codemirror_mode": {
    "name": "ipython",
    "version": 3
   },
   "file_extension": ".py",
   "mimetype": "text/x-python",
   "name": "python",
   "nbconvert_exporter": "python",
   "pygments_lexer": "ipython3",
   "version": "3.6.5"
  }
 },
 "nbformat": 4,
 "nbformat_minor": 2
}
